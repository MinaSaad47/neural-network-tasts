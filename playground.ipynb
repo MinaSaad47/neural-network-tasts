{
 "cells": [
  {
   "cell_type": "code",
   "execution_count": 1,
   "metadata": {},
   "outputs": [],
   "source": [
    "import tkinter as tk\n",
    "from tkinter import filedialog, messagebox\n",
    "import pandas as pd\n",
    "import matplotlib.pylab as plt\n",
    "import numpy as np\n",
    "from sklearn.model_selection import train_test_split"
   ]
  },
  {
   "cell_type": "code",
   "execution_count": 2,
   "metadata": {},
   "outputs": [
    {
     "data": {
      "text/html": [
       "<div>\n",
       "<style scoped>\n",
       "    .dataframe tbody tr th:only-of-type {\n",
       "        vertical-align: middle;\n",
       "    }\n",
       "\n",
       "    .dataframe tbody tr th {\n",
       "        vertical-align: top;\n",
       "    }\n",
       "\n",
       "    .dataframe thead th {\n",
       "        text-align: right;\n",
       "    }\n",
       "</style>\n",
       "<table border=\"1\" class=\"dataframe\">\n",
       "  <thead>\n",
       "    <tr style=\"text-align: right;\">\n",
       "      <th></th>\n",
       "      <th>species</th>\n",
       "      <th>bill_length_mm</th>\n",
       "      <th>bill_depth_mm</th>\n",
       "      <th>flipper_length_mm</th>\n",
       "      <th>gender</th>\n",
       "      <th>body_mass_g</th>\n",
       "    </tr>\n",
       "  </thead>\n",
       "  <tbody>\n",
       "    <tr>\n",
       "      <th>0</th>\n",
       "      <td>Adelie</td>\n",
       "      <td>39.1</td>\n",
       "      <td>18.7</td>\n",
       "      <td>181</td>\n",
       "      <td>male</td>\n",
       "      <td>3750</td>\n",
       "    </tr>\n",
       "    <tr>\n",
       "      <th>1</th>\n",
       "      <td>Adelie</td>\n",
       "      <td>39.5</td>\n",
       "      <td>17.4</td>\n",
       "      <td>186</td>\n",
       "      <td>female</td>\n",
       "      <td>3800</td>\n",
       "    </tr>\n",
       "    <tr>\n",
       "      <th>2</th>\n",
       "      <td>Adelie</td>\n",
       "      <td>40.3</td>\n",
       "      <td>18.0</td>\n",
       "      <td>195</td>\n",
       "      <td>female</td>\n",
       "      <td>3250</td>\n",
       "    </tr>\n",
       "    <tr>\n",
       "      <th>3</th>\n",
       "      <td>Adelie</td>\n",
       "      <td>39.6</td>\n",
       "      <td>17.7</td>\n",
       "      <td>186</td>\n",
       "      <td>female</td>\n",
       "      <td>3500</td>\n",
       "    </tr>\n",
       "    <tr>\n",
       "      <th>4</th>\n",
       "      <td>Adelie</td>\n",
       "      <td>36.7</td>\n",
       "      <td>19.3</td>\n",
       "      <td>193</td>\n",
       "      <td>female</td>\n",
       "      <td>3450</td>\n",
       "    </tr>\n",
       "    <tr>\n",
       "      <th>...</th>\n",
       "      <td>...</td>\n",
       "      <td>...</td>\n",
       "      <td>...</td>\n",
       "      <td>...</td>\n",
       "      <td>...</td>\n",
       "      <td>...</td>\n",
       "    </tr>\n",
       "    <tr>\n",
       "      <th>145</th>\n",
       "      <td>Chinstrap</td>\n",
       "      <td>50.8</td>\n",
       "      <td>18.5</td>\n",
       "      <td>201</td>\n",
       "      <td>male</td>\n",
       "      <td>4450</td>\n",
       "    </tr>\n",
       "    <tr>\n",
       "      <th>146</th>\n",
       "      <td>Chinstrap</td>\n",
       "      <td>50.1</td>\n",
       "      <td>17.9</td>\n",
       "      <td>190</td>\n",
       "      <td>female</td>\n",
       "      <td>3400</td>\n",
       "    </tr>\n",
       "    <tr>\n",
       "      <th>147</th>\n",
       "      <td>Chinstrap</td>\n",
       "      <td>49.0</td>\n",
       "      <td>19.6</td>\n",
       "      <td>212</td>\n",
       "      <td>male</td>\n",
       "      <td>4300</td>\n",
       "    </tr>\n",
       "    <tr>\n",
       "      <th>148</th>\n",
       "      <td>Chinstrap</td>\n",
       "      <td>51.5</td>\n",
       "      <td>18.7</td>\n",
       "      <td>187</td>\n",
       "      <td>male</td>\n",
       "      <td>3250</td>\n",
       "    </tr>\n",
       "    <tr>\n",
       "      <th>149</th>\n",
       "      <td>Chinstrap</td>\n",
       "      <td>49.8</td>\n",
       "      <td>17.3</td>\n",
       "      <td>198</td>\n",
       "      <td>female</td>\n",
       "      <td>3675</td>\n",
       "    </tr>\n",
       "  </tbody>\n",
       "</table>\n",
       "<p>150 rows × 6 columns</p>\n",
       "</div>"
      ],
      "text/plain": [
       "       species  bill_length_mm  bill_depth_mm  flipper_length_mm  gender  \\\n",
       "0       Adelie            39.1           18.7                181    male   \n",
       "1       Adelie            39.5           17.4                186  female   \n",
       "2       Adelie            40.3           18.0                195  female   \n",
       "3       Adelie            39.6           17.7                186  female   \n",
       "4       Adelie            36.7           19.3                193  female   \n",
       "..         ...             ...            ...                ...     ...   \n",
       "145  Chinstrap            50.8           18.5                201    male   \n",
       "146  Chinstrap            50.1           17.9                190  female   \n",
       "147  Chinstrap            49.0           19.6                212    male   \n",
       "148  Chinstrap            51.5           18.7                187    male   \n",
       "149  Chinstrap            49.8           17.3                198  female   \n",
       "\n",
       "     body_mass_g  \n",
       "0           3750  \n",
       "1           3800  \n",
       "2           3250  \n",
       "3           3500  \n",
       "4           3450  \n",
       "..           ...  \n",
       "145         4450  \n",
       "146         3400  \n",
       "147         4300  \n",
       "148         3250  \n",
       "149         3675  \n",
       "\n",
       "[150 rows x 6 columns]"
      ]
     },
     "execution_count": 2,
     "metadata": {},
     "output_type": "execute_result"
    }
   ],
   "source": [
    "df = pd.read_csv('penguins.csv')\n",
    "df"
   ]
  },
  {
   "cell_type": "code",
   "execution_count": 3,
   "metadata": {},
   "outputs": [
    {
     "name": "stderr",
     "output_type": "stream",
     "text": [
      "/tmp/ipykernel_60624/3157772508.py:8: SettingWithCopyWarning: \n",
      "A value is trying to be set on a copy of a slice from a DataFrame\n",
      "\n",
      "See the caveats in the documentation: https://pandas.pydata.org/pandas-docs/stable/user_guide/indexing.html#returning-a-view-versus-a-copy\n",
      "  df['gender'][df['gender'] == -1] = df['gender'].max()\n"
     ]
    },
    {
     "data": {
      "text/html": [
       "<div>\n",
       "<style scoped>\n",
       "    .dataframe tbody tr th:only-of-type {\n",
       "        vertical-align: middle;\n",
       "    }\n",
       "\n",
       "    .dataframe tbody tr th {\n",
       "        vertical-align: top;\n",
       "    }\n",
       "\n",
       "    .dataframe thead th {\n",
       "        text-align: right;\n",
       "    }\n",
       "</style>\n",
       "<table border=\"1\" class=\"dataframe\">\n",
       "  <thead>\n",
       "    <tr style=\"text-align: right;\">\n",
       "      <th></th>\n",
       "      <th>species</th>\n",
       "      <th>bill_length_mm</th>\n",
       "      <th>bill_depth_mm</th>\n",
       "      <th>flipper_length_mm</th>\n",
       "      <th>gender</th>\n",
       "      <th>body_mass_g</th>\n",
       "    </tr>\n",
       "  </thead>\n",
       "  <tbody>\n",
       "    <tr>\n",
       "      <th>0</th>\n",
       "      <td>0</td>\n",
       "      <td>39.1</td>\n",
       "      <td>18.7</td>\n",
       "      <td>181</td>\n",
       "      <td>1</td>\n",
       "      <td>3750</td>\n",
       "    </tr>\n",
       "    <tr>\n",
       "      <th>1</th>\n",
       "      <td>0</td>\n",
       "      <td>39.5</td>\n",
       "      <td>17.4</td>\n",
       "      <td>186</td>\n",
       "      <td>0</td>\n",
       "      <td>3800</td>\n",
       "    </tr>\n",
       "    <tr>\n",
       "      <th>2</th>\n",
       "      <td>0</td>\n",
       "      <td>40.3</td>\n",
       "      <td>18.0</td>\n",
       "      <td>195</td>\n",
       "      <td>0</td>\n",
       "      <td>3250</td>\n",
       "    </tr>\n",
       "    <tr>\n",
       "      <th>3</th>\n",
       "      <td>0</td>\n",
       "      <td>39.6</td>\n",
       "      <td>17.7</td>\n",
       "      <td>186</td>\n",
       "      <td>0</td>\n",
       "      <td>3500</td>\n",
       "    </tr>\n",
       "    <tr>\n",
       "      <th>4</th>\n",
       "      <td>0</td>\n",
       "      <td>36.7</td>\n",
       "      <td>19.3</td>\n",
       "      <td>193</td>\n",
       "      <td>0</td>\n",
       "      <td>3450</td>\n",
       "    </tr>\n",
       "    <tr>\n",
       "      <th>...</th>\n",
       "      <td>...</td>\n",
       "      <td>...</td>\n",
       "      <td>...</td>\n",
       "      <td>...</td>\n",
       "      <td>...</td>\n",
       "      <td>...</td>\n",
       "    </tr>\n",
       "    <tr>\n",
       "      <th>145</th>\n",
       "      <td>1</td>\n",
       "      <td>50.8</td>\n",
       "      <td>18.5</td>\n",
       "      <td>201</td>\n",
       "      <td>1</td>\n",
       "      <td>4450</td>\n",
       "    </tr>\n",
       "    <tr>\n",
       "      <th>146</th>\n",
       "      <td>1</td>\n",
       "      <td>50.1</td>\n",
       "      <td>17.9</td>\n",
       "      <td>190</td>\n",
       "      <td>0</td>\n",
       "      <td>3400</td>\n",
       "    </tr>\n",
       "    <tr>\n",
       "      <th>147</th>\n",
       "      <td>1</td>\n",
       "      <td>49.0</td>\n",
       "      <td>19.6</td>\n",
       "      <td>212</td>\n",
       "      <td>1</td>\n",
       "      <td>4300</td>\n",
       "    </tr>\n",
       "    <tr>\n",
       "      <th>148</th>\n",
       "      <td>1</td>\n",
       "      <td>51.5</td>\n",
       "      <td>18.7</td>\n",
       "      <td>187</td>\n",
       "      <td>1</td>\n",
       "      <td>3250</td>\n",
       "    </tr>\n",
       "    <tr>\n",
       "      <th>149</th>\n",
       "      <td>1</td>\n",
       "      <td>49.8</td>\n",
       "      <td>17.3</td>\n",
       "      <td>198</td>\n",
       "      <td>0</td>\n",
       "      <td>3675</td>\n",
       "    </tr>\n",
       "  </tbody>\n",
       "</table>\n",
       "<p>150 rows × 6 columns</p>\n",
       "</div>"
      ],
      "text/plain": [
       "     species  bill_length_mm  bill_depth_mm  flipper_length_mm  gender  \\\n",
       "0          0            39.1           18.7                181       1   \n",
       "1          0            39.5           17.4                186       0   \n",
       "2          0            40.3           18.0                195       0   \n",
       "3          0            39.6           17.7                186       0   \n",
       "4          0            36.7           19.3                193       0   \n",
       "..       ...             ...            ...                ...     ...   \n",
       "145        1            50.8           18.5                201       1   \n",
       "146        1            50.1           17.9                190       0   \n",
       "147        1            49.0           19.6                212       1   \n",
       "148        1            51.5           18.7                187       1   \n",
       "149        1            49.8           17.3                198       0   \n",
       "\n",
       "     body_mass_g  \n",
       "0           3750  \n",
       "1           3800  \n",
       "2           3250  \n",
       "3           3500  \n",
       "4           3450  \n",
       "..           ...  \n",
       "145         4450  \n",
       "146         3400  \n",
       "147         4300  \n",
       "148         3250  \n",
       "149         3675  \n",
       "\n",
       "[150 rows x 6 columns]"
      ]
     },
     "execution_count": 3,
     "metadata": {},
     "output_type": "execute_result"
    }
   ],
   "source": [
    "# label encoding\n",
    "df['gender'] = df['gender'].astype('category')\n",
    "df['gender'] = df['gender'].cat.codes\n",
    "df['species'] = df['species'].astype('category')\n",
    "df['species'] = df['species'].cat.codes\n",
    "\n",
    "# removing nans\n",
    "df['gender'][df['gender'] == -1] = df['gender'].max()\n",
    "df"
   ]
  },
  {
   "cell_type": "code",
   "execution_count": 4,
   "metadata": {},
   "outputs": [],
   "source": [
    "df.insert(loc=1, column='bias', value=1)"
   ]
  },
  {
   "cell_type": "code",
   "execution_count": 5,
   "metadata": {},
   "outputs": [],
   "source": [
    "C1 = df[df['species'] == 1]\n",
    "C2 = df[df['species'] == 2]\n",
    "\n",
    "C1_X = C1[['bias', 'bill_length_mm', 'flipper_length_mm']]\n",
    "C1_D = C1['species']\n",
    "\n",
    "C2_X = C2[['bias', 'bill_length_mm', 'flipper_length_mm']]\n",
    "C2_D = C2['species']\n"
   ]
  },
  {
   "cell_type": "code",
   "execution_count": 6,
   "metadata": {},
   "outputs": [],
   "source": [
    "C1_X_Train, C1_X_Test, C1_D_Train, C1_D_Test = train_test_split(C1_X, C1_D, test_size=0.4)\n",
    "C2_X_Train, C2_X_Test, C2_D_Train, C2_D_Test = train_test_split(C2_X, C2_D, test_size=0.4)"
   ]
  },
  {
   "cell_type": "code",
   "execution_count": 7,
   "metadata": {},
   "outputs": [
    {
     "name": "stdout",
     "output_type": "stream",
     "text": [
      "C1_X_Train: (30, 3)\n",
      "C1_X_Test: (20, 3)\n",
      "C1_D_Train: (30,)\n",
      "C1_D_Test: (20,)\n",
      "C2_X_Train: (30, 3)\n",
      "C2_X_Test: (20, 3)\n",
      "C2_D_Train: (30,)\n",
      "C2_D_Test: (20,)\n"
     ]
    }
   ],
   "source": [
    "print(f'C1_X_Train: {C1_X_Train.shape}')\n",
    "print(f'C1_X_Test: {C1_X_Test.shape}')\n",
    "print(f'C1_D_Train: {C1_D_Train.shape}')\n",
    "print(f'C1_D_Test: {C1_D_Test.shape}')\n",
    "print(f'C2_X_Train: {C2_X_Train.shape}')\n",
    "print(f'C2_X_Test: {C2_X_Test.shape}')\n",
    "print(f'C2_D_Train: {C2_D_Train.shape}')\n",
    "print(f'C2_D_Test: {C2_D_Test.shape}')"
   ]
  },
  {
   "cell_type": "code",
   "execution_count": 8,
   "metadata": {},
   "outputs": [],
   "source": [
    "X_Train = pd.concat([C1_X_Train, C2_X_Train]).to_numpy()\n",
    "D_Train = pd.concat([C1_D_Train, C2_D_Train]).to_numpy()\n",
    "X_Test = pd.concat([C1_X_Test, C2_X_Test]).to_numpy()\n",
    "D_Test = pd.concat([C1_D_Test, C2_D_Test]).to_numpy()"
   ]
  },
  {
   "cell_type": "code",
   "execution_count": 9,
   "metadata": {},
   "outputs": [],
   "source": [
    "W = np.random.random(size=(3, ))"
   ]
  },
  {
   "cell_type": "code",
   "execution_count": 10,
   "metadata": {},
   "outputs": [
    {
     "data": {
      "text/plain": [
       "array([0.98640626, 0.93721981, 0.0568443 ])"
      ]
     },
     "execution_count": 10,
     "metadata": {},
     "output_type": "execute_result"
    }
   ],
   "source": [
    "W"
   ]
  },
  {
   "cell_type": "code",
   "execution_count": 11,
   "metadata": {},
   "outputs": [
    {
     "data": {
      "text/plain": [
       "(3,)"
      ]
     },
     "execution_count": 11,
     "metadata": {},
     "output_type": "execute_result"
    }
   ],
   "source": [
    "W.shape"
   ]
  },
  {
   "cell_type": "code",
   "execution_count": 12,
   "metadata": {},
   "outputs": [],
   "source": [
    "nb_epochs = 1000\n",
    "eta = 0.001"
   ]
  },
  {
   "cell_type": "code",
   "execution_count": 13,
   "metadata": {},
   "outputs": [
    {
     "data": {
      "text/plain": [
       "'old weights: [0.98640626 0.93721981 0.0568443 ]'"
      ]
     },
     "execution_count": 13,
     "metadata": {},
     "output_type": "execute_result"
    }
   ],
   "source": [
    "f'old weights: {W}'"
   ]
  },
  {
   "cell_type": "code",
   "execution_count": 14,
   "metadata": {},
   "outputs": [],
   "source": [
    "signum  = np.vectorize(lambda x: 1 if x > 0 else 0)"
   ]
  },
  {
   "cell_type": "code",
   "execution_count": 15,
   "metadata": {},
   "outputs": [],
   "source": [
    "for i in range(nb_epochs):\n",
    "    net = np.dot(X_Train, W)\n",
    "    signum  = np.vectorize(lambda x: 1 if x > 0 else 0)\n",
    "    y = signum(net)\n",
    "    error = D_Train - y\n",
    "    for x, e in zip(X_Train, error):\n",
    "        W = W + eta * e * x"
   ]
  },
  {
   "cell_type": "code",
   "execution_count": 16,
   "metadata": {},
   "outputs": [
    {
     "data": {
      "text/plain": [
       "'new weights: [  30.98640626 1420.33721981 6450.0568443 ]'"
      ]
     },
     "execution_count": 16,
     "metadata": {},
     "output_type": "execute_result"
    }
   ],
   "source": [
    "f'new weights: {W}'"
   ]
  },
  {
   "cell_type": "code",
   "execution_count": 17,
   "metadata": {},
   "outputs": [],
   "source": [
    "nb_correct = 0\n",
    "for x, d in zip(X_Test, D_Test):\n",
    "    net = np.dot(x, W)\n",
    "    y = signum(net)\n",
    "    if y == d:\n",
    "        nb_correct +=1\n",
    "accuracy = nb_correct / X_Test.shape[0]"
   ]
  },
  {
   "cell_type": "code",
   "execution_count": 18,
   "metadata": {},
   "outputs": [
    {
     "data": {
      "text/plain": [
       "(20, 40)"
      ]
     },
     "execution_count": 18,
     "metadata": {},
     "output_type": "execute_result"
    }
   ],
   "source": [
    "(nb_correct, X_Test.shape[0])"
   ]
  },
  {
   "cell_type": "code",
   "execution_count": 19,
   "metadata": {},
   "outputs": [
    {
     "data": {
      "text/plain": [
       "'accuray: 0.5'"
      ]
     },
     "execution_count": 19,
     "metadata": {},
     "output_type": "execute_result"
    }
   ],
   "source": [
    "f'accuray: {accuracy}'"
   ]
  }
 ],
 "metadata": {
  "kernelspec": {
   "display_name": "venv",
   "language": "python",
   "name": "python3"
  },
  "language_info": {
   "codemirror_mode": {
    "name": "ipython",
    "version": 3
   },
   "file_extension": ".py",
   "mimetype": "text/x-python",
   "name": "python",
   "nbconvert_exporter": "python",
   "pygments_lexer": "ipython3",
   "version": "3.10.7 (main, Sep  7 2022, 00:00:00) [GCC 12.2.1 20220819 (Red Hat 12.2.1-1)]"
  },
  "orig_nbformat": 4,
  "vscode": {
   "interpreter": {
    "hash": "0b859e45c38a44c5dbf01baa17b6bf09a621dc0b1eadfe8d2af9bc63f4de40a3"
   }
  }
 },
 "nbformat": 4,
 "nbformat_minor": 2
}
